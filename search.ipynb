{
 "cells": [
  {
   "cell_type": "markdown",
   "metadata": {},
   "source": [
    "# Load Data into our DB"
   ]
  },
  {
   "cell_type": "code",
   "execution_count": 1,
   "metadata": {},
   "outputs": [],
   "source": [
    "import psycopg2\n",
    "from random_word import RandomWords\n",
    "import random\n",
    "import pprint\n",
    "pp = pprint.PrettyPrinter(indent=4)\n",
    "\n",
    "r = RandomWords()\n"
   ]
  },
  {
   "cell_type": "code",
   "execution_count": 2,
   "metadata": {},
   "outputs": [],
   "source": [
    "languages = ['python', 'javascript', 'java']"
   ]
  },
  {
   "cell_type": "code",
   "execution_count": 3,
   "metadata": {},
   "outputs": [],
   "source": [
    "conn = psycopg2.connect(database=\"search\",\n",
    "                        host=\"localhost\",\n",
    "                        user=\"ross\",\n",
    "                        password=\"abc123\",\n",
    "                        port=\"5432\")"
   ]
  },
  {
   "cell_type": "code",
   "execution_count": null,
   "metadata": {},
   "outputs": [],
   "source": [
    "# Add a little \"real\" data that we can search for\n",
    "\n",
    "cur = conn.cursor()\n",
    "\n",
    "for language in languages:\n",
    "    api_name = f'stripe-{language}-api'\n",
    "    api_version = 1\n",
    "    internal_version = 1\n",
    "    api_base_url = f'www.api.stripe.com'\n",
    "    company = f'Stripe inc.'\n",
    "    path_to_zip = '/data/zips'\n",
    "    programming_language = language\n",
    "    openapi_url = 'www.google.com'\n",
    "    openapi_hash = 'abc123'\n",
    "\n",
    "    # insert data\n",
    "    cur.execute(f\"INSERT INTO metadata(api_name, api_version, internal_version, api_base_url, company, path_to_zip, programming_language, openapi_url, openapi_hash) VALUES('{api_name}', '{api_version}', '{internal_version}', '{api_base_url}', '{company}', '{path_to_zip}', '{programming_language}', '{openapi_url}', '{openapi_hash}')\");\n",
    "\n",
    "conn.commit()\n",
    "cur.close()"
   ]
  },
  {
   "cell_type": "code",
   "execution_count": null,
   "metadata": {},
   "outputs": [],
   "source": [
    "\n",
    "# insert data in bulks of 10, do this 100000 times for 1 million rows\n",
    "for i in range(100000):\n",
    "    print('first loop', i)\n",
    "    cur = conn.cursor()\n",
    "    for j in range(50):\n",
    "        randomBase = r.get_random_word()\n",
    "        randomBase2 = r.get_random_word()\n",
    "        api_name = f'{randomBase}-{randomBase2}-api'\n",
    "        api_version = 1\n",
    "        internal_version = 1\n",
    "        api_base_url = f'www.{randomBase}-{randomBase2}-api.com'\n",
    "        company = f'{randomBase} {randomBase2} inc.'\n",
    "        path_to_zip = '/data/zips'\n",
    "        programming_language = random.choice(languages)\n",
    "        openapi_url = 'www.google.com'\n",
    "        openapi_hash = 'abc123'\n",
    "\n",
    "        # insert data\n",
    "        cur.execute(f\"INSERT INTO metadata(api_name, api_version, internal_version, api_base_url, company, path_to_zip, programming_language, openapi_url, openapi_hash) VALUES('{api_name}', '{api_version}', '{internal_version}', '{api_base_url}', '{company}', '{path_to_zip}', '{programming_language}', '{openapi_url}', '{openapi_hash}')\");\n",
    "\n",
    "    print('inserting data')\n",
    "    conn.commit()\n",
    "    cur.close()"
   ]
  },
  {
   "cell_type": "code",
   "execution_count": null,
   "metadata": {},
   "outputs": [],
   "source": [
    "cur.close()"
   ]
  },
  {
   "cell_type": "markdown",
   "metadata": {},
   "source": [
    "# Searching\n",
    "\n",
    "This would be what our frontend hits when it sends a request to /search"
   ]
  },
  {
   "cell_type": "code",
   "execution_count": 4,
   "metadata": {},
   "outputs": [
    {
     "name": "stdout",
     "output_type": "stream",
     "text": [
      "[(9003,)]\n"
     ]
    }
   ],
   "source": [
    "# how many rows do we have?\n",
    "\n",
    "cur = conn.cursor()\n",
    "cur.execute(\"SELECT COUNT(*) FROM metadata\")\n",
    "rows = cur.fetchall()\n",
    "print(rows)\n",
    "cur.close()"
   ]
  },
  {
   "cell_type": "code",
   "execution_count": 9,
   "metadata": {},
   "outputs": [],
   "source": [
    "searchString = 'stripe jaba'"
   ]
  },
  {
   "cell_type": "code",
   "execution_count": 10,
   "metadata": {},
   "outputs": [
    {
     "name": "stdout",
     "output_type": "stream",
     "text": [
      "[   ('stringing-metoxeny-api', 'stringing metoxeny inc.', 'python', None, 0.15),\n",
      "    ('humour-hamstring-api', 'humour hamstring inc.', 'java', None, 0.13513513),\n",
      "    (   'semisteel-archaizing-api',\n",
      "        'semisteel archaizing inc.',\n",
      "        'javascript',\n",
      "        None,\n",
      "        0.13043478),\n",
      "    ('backstring-marse-api', 'backstring marse inc.', 'python', None, 0.125),\n",
      "    (   'carbinol-stringpiece-api',\n",
      "        'carbinol stringpiece inc.',\n",
      "        'python',\n",
      "        None,\n",
      "        0.11363637),\n",
      "    (   'seabag-intercorrelating-api',\n",
      "        'seabag intercorrelating inc.',\n",
      "        'python',\n",
      "        None,\n",
      "        0.11111111)]\n"
     ]
    }
   ],
   "source": [
    "\n",
    "cur = conn.cursor()\n",
    "\n",
    "sql = \"\"\"\n",
    "SELECT api_name, company, programming_language, rank_ts_search, similarity\n",
    "FROM\n",
    "    metadata,\n",
    "    phraseto_tsquery('english', '{searchString}') query,\n",
    "    NULLIF(ts_rank(ts, query), 0) rank_ts_search,\n",
    "    SIMILARITY('{searchString}', search_doc) similarity\n",
    "WHERE ts @@ query OR similarity > 0\n",
    "ORDER BY rank_ts_search DESC, similarity DESC\n",
    "LIMIT 6;\n",
    "\"\"\"\n",
    "\n",
    "cur.execute(sql)\n",
    "rows = cur.fetchall()\n",
    "conn.commit()\n",
    "cur.close()\n",
    "\n",
    "pp.pprint(rows)"
   ]
  },
  {
   "cell_type": "code",
   "execution_count": null,
   "metadata": {},
   "outputs": [],
   "source": []
  },
  {
   "cell_type": "code",
   "execution_count": null,
   "metadata": {},
   "outputs": [],
   "source": []
  },
  {
   "cell_type": "code",
   "execution_count": null,
   "metadata": {},
   "outputs": [],
   "source": [
    "conn.close()"
   ]
  }
 ],
 "metadata": {
  "kernelspec": {
   "display_name": "base",
   "language": "python",
   "name": "python3"
  },
  "language_info": {
   "codemirror_mode": {
    "name": "ipython",
    "version": 3
   },
   "file_extension": ".py",
   "mimetype": "text/x-python",
   "name": "python",
   "nbconvert_exporter": "python",
   "pygments_lexer": "ipython3",
   "version": "3.9.15"
  }
 },
 "nbformat": 4,
 "nbformat_minor": 2
}
